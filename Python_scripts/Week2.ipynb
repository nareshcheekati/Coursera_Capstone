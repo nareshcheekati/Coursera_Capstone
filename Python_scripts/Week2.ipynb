{
 "cells": [
  {
   "cell_type": "markdown",
   "metadata": {},
   "source": [
    "### Introduction/Business Problem:"
   ]
  },
  {
   "cell_type": "markdown",
   "metadata": {},
   "source": [
    "\n",
    "\n",
    "Road accidents change lives of thousands of people and their families evrey day. It would be great if we can find ways to reduce those accidents and/or the impact of those accidents. This is exactly the problem I would be trying to solve in this project.\n",
    "\n",
    "Going into the details of the project, The problem I will try to solve here is to predict the severity of an accident based on the availble weather and road conditions by using historic collision data available from seattle government website.\n",
    "\n",
    "This problem is a global issue and as I said earlier, it is impacting so many lives on daily basis. If I build an accurate predictive model this would help to provide warning and cautions to passengers upfront, which would help to reduce the impact and sevrity of road accidents. The various benificieries and users of this model are Passengers, road traffic departments, goverment organisations, and transportation departments.\n"
   ]
  },
  {
   "cell_type": "markdown",
   "metadata": {},
   "source": [
    "### Data:"
   ]
  },
  {
   "cell_type": "markdown",
   "metadata": {
    "collapsed": true
   },
   "source": [
    "\n",
    "The dataset used in this project is seattle city collisions dataset. This includes all types of collisions starting from 2004 to present. Collisions will display at the intersection or\n",
    "mid-block of a segment. More details about the data can be found at following link, https://s3.us.cloud-object-storage.appdomain.cloud/cf-courses-data/CognitiveClass/DP0701EN/version-2/Metadata.pdf this is a pdf file with metadata.\n",
    "\n",
    "The csv file of the actual data set can be found at following link.\n",
    "https://s3.us.cloud-object-storage.appdomain.cloud/cf-courses-data/CognitiveClass/DP0701EN/version-2/Data-Collisions.csv\n",
    "\n",
    "It has total 38 columns(attributes) and 19673 rows(records). The first column is the labeled data. The label for the data set is severity, which describes the fatality of an accident. The remaining columns have different types of attributes. Some or all can be used to train the model. The labeled column \"Severity\" is the target variable which is classified from 0 to 4 with following descriptions. 0 - Little to no Probability, 1 - Very Low Probability - Chance or Property Damage, 2 - Low Probability - Chance of Injury, 3 - Mild Probability - Chance of Serious Injury, 4 - High Probability - Chance of Fatality.\n",
    "\n",
    "Junctype, Roadcond, Lightcond, Weather are some of the important independennt variables that will be used in the model. Final list of variables will be identified after conducting exploratory analysis on the dataset and some feature engineering on the training dataset.\n",
    "\n",
    "Based on the initial research on the dataset, it is determined that  one of the classification machine learning algorithms will be used to solve the business problem.\n",
    "\n"
   ]
  },
  {
   "cell_type": "code",
   "execution_count": null,
   "metadata": {
    "collapsed": true
   },
   "outputs": [],
   "source": []
  }
 ],
 "metadata": {
  "kernelspec": {
   "display_name": "Python 3",
   "language": "python",
   "name": "python3"
  },
  "language_info": {
   "codemirror_mode": {
    "name": "ipython",
    "version": 3
   },
   "file_extension": ".py",
   "mimetype": "text/x-python",
   "name": "python",
   "nbconvert_exporter": "python",
   "pygments_lexer": "ipython3",
   "version": "3.6.1"
  }
 },
 "nbformat": 4,
 "nbformat_minor": 2
}
